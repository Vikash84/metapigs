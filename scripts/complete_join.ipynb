{
 "cells": [
  {
   "cell_type": "markdown",
   "metadata": {},
   "source": [
    "## Build a complete table of metadata and experimental details\n",
    "\n",
    "As originally defined, using only with isolation source and collection data, there exist duplicate rows. \n",
    "\n",
    "These duplicates were intended to record multiple extractions from the same sample due to problems. (technical replicates)\n",
    "\n",
    "However, source and date are still the same and it is only when joined to the sequencing run table that these additional extractions take on meaning.\n",
    "\n",
    "Below we join the tables and then add a replicate_number column to disambiguate.\n",
    "\n",
    "Mock and negative control records complicate matters.\n",
    "\n",
    "A unique index (sample_name) is constructed sysmetically from isolation_source, collection_date and replicate_number.\n"
   ]
  },
  {
   "cell_type": "code",
   "execution_count": 4,
   "metadata": {},
   "outputs": [],
   "source": [
    "import pandas as pd\n",
    "import numpy as np "
   ]
  },
  {
   "cell_type": "code",
   "execution_count": 6,
   "metadata": {},
   "outputs": [
    {
     "name": "stdout",
     "output_type": "stream",
     "text": [
      "There were 885 rows in sample table\n"
     ]
    },
    {
     "data": {
      "text/plain": [
       "chem_administration\n",
       "ColiGuard Day 10                    8\n",
       "ColiGuard Day 14                   18\n",
       "ColiGuard Day 3                     8\n",
       "ColiGuard Day 7                    18\n",
       "ColiGuard Day 8                     1\n",
       "Control - Ex Placebo               52\n",
       "Control - Placebo Day 10            8\n",
       "Control - Placebo Day 14           18\n",
       "Control - Placebo Day 3             8\n",
       "Control - Placebo Day 6             6\n",
       "Control - Placebo Day 7            18\n",
       "D-scour Day 10                      9\n",
       "D-scour Day 14                     18\n",
       "D-scour Day 3                       8\n",
       "D-scour Day 7                      18\n",
       "D-scour Day 8                       2\n",
       "Ex ColiGuard                       46\n",
       "Ex ColiGuard                       12\n",
       "Ex D-scour                         58\n",
       "Ex Neomycin                       103\n",
       "Ex Neomycin - ColiGuard Day 12      6\n",
       "Ex Neomycin - ColiGuard Day 2      17\n",
       "Ex Neomycin - ColiGuard Day 5       8\n",
       "Ex Neomycin - ColiGuard Day 9      18\n",
       "Ex Neomycin - D-scour Day 12        6\n",
       "Ex Neomycin - D-scour Day 2        18\n",
       "Ex Neomycin - D-scour Day 5         8\n",
       "Ex Neomycin - D-scour Day 9        18\n",
       "Ex Neomycin - Ex ColiGuard         52\n",
       "Ex Neomycin - Ex D-scour           51\n",
       "Neomycin Day 3                     24\n",
       "No treatment                      222\n",
       "dtype: int64"
      ]
     },
     "execution_count": 6,
     "metadata": {},
     "output_type": "execute_result"
    }
   ],
   "source": [
    "# read in the sample metadata table as it current exists.\n",
    "\n",
    "samples = pd.read_excel('../source_data/test_pigs_samples_IDs_for_NCBI.xlsx', sheet_name=0, skiprows=14, skipfooter=0, index_col=None, dtype={'*sample_name': str})\n",
    "# for any sample name which uses plate number, make sure the syntax includes 2 digits Eg. P10 or P03 and not P3\n",
    "# this results in the correct ordering of rows when sorted\n",
    "samples['*sample_name'] = samples['*sample_name'].str.replace('P([1-9](?:.2)?)$', lambda m: 'P0{}'.format(m.group(1)))\n",
    "print('There were {} rows in sample table'.format(len(samples)))\n",
    "samples.groupby('chem_administration').size()"
   ]
  },
  {
   "cell_type": "code",
   "execution_count": 7,
   "metadata": {},
   "outputs": [
    {
     "name": "stdout",
     "output_type": "stream",
     "text": [
      "There were 928 rows in the DNA pate table\n"
     ]
    },
    {
     "data": {
      "text/html": [
       "<div>\n",
       "<style scoped>\n",
       "    .dataframe tbody tr th:only-of-type {\n",
       "        vertical-align: middle;\n",
       "    }\n",
       "\n",
       "    .dataframe tbody tr th {\n",
       "        vertical-align: top;\n",
       "    }\n",
       "\n",
       "    .dataframe thead th {\n",
       "        text-align: right;\n",
       "    }\n",
       "</style>\n",
       "<table border=\"1\" class=\"dataframe\">\n",
       "  <thead>\n",
       "    <tr style=\"text-align: right;\">\n",
       "      <th></th>\n",
       "      <th>elution plate number</th>\n",
       "      <th>well position</th>\n",
       "      <th>date of sample</th>\n",
       "      <th>pig ID</th>\n",
       "      <th>date and pig ID</th>\n",
       "    </tr>\n",
       "  </thead>\n",
       "  <tbody>\n",
       "    <tr>\n",
       "      <th>0</th>\n",
       "      <td>plate_1</td>\n",
       "      <td>A1</td>\n",
       "      <td>Fe21</td>\n",
       "      <td>14194</td>\n",
       "      <td>Fe21/14194</td>\n",
       "    </tr>\n",
       "    <tr>\n",
       "      <th>1</th>\n",
       "      <td>plate_1</td>\n",
       "      <td>A2</td>\n",
       "      <td>Fe28</td>\n",
       "      <td>14286</td>\n",
       "      <td>Fe28/14286</td>\n",
       "    </tr>\n",
       "    <tr>\n",
       "      <th>2</th>\n",
       "      <td>plate_1</td>\n",
       "      <td>A3</td>\n",
       "      <td>Fe21</td>\n",
       "      <td>29644</td>\n",
       "      <td>Fe21/29644</td>\n",
       "    </tr>\n",
       "    <tr>\n",
       "      <th>3</th>\n",
       "      <td>plate_1</td>\n",
       "      <td>A4</td>\n",
       "      <td>Fe14</td>\n",
       "      <td>29898</td>\n",
       "      <td>Fe14/29898</td>\n",
       "    </tr>\n",
       "    <tr>\n",
       "      <th>4</th>\n",
       "      <td>plate_1</td>\n",
       "      <td>A5</td>\n",
       "      <td>Fe21</td>\n",
       "      <td>29679</td>\n",
       "      <td>Fe21/29679</td>\n",
       "    </tr>\n",
       "  </tbody>\n",
       "</table>\n",
       "</div>"
      ],
      "text/plain": [
       "  elution plate number well position date of sample pig ID date and pig ID\n",
       "0              plate_1            A1           Fe21  14194      Fe21/14194\n",
       "1              plate_1            A2           Fe28  14286      Fe28/14286\n",
       "2              plate_1            A3           Fe21  29644      Fe21/29644\n",
       "3              plate_1            A4           Fe14  29898      Fe14/29898\n",
       "4              plate_1            A5           Fe21  29679      Fe21/29679"
      ]
     },
     "execution_count": 7,
     "metadata": {},
     "output_type": "execute_result"
    }
   ],
   "source": [
    "pd.options.display.max_rows = 10\n",
    "seqruns = pd.read_excel('../source_data/DNA_plates.xlsx', sheet_name=0, index_col=None, dtype={'date and pig ID': str})\n",
    "seqruns.drop(seqruns.columns[[3,5]], axis=1, inplace=True)\n",
    "print('There were {} rows in the DNA pate table'.format(len(seqruns)))\n",
    "seqruns.head()"
   ]
  },
  {
   "cell_type": "code",
   "execution_count": 8,
   "metadata": {},
   "outputs": [],
   "source": [
    "def demux(df):\n",
    "    # replace the current sample_name with that made from isolation_source and collection_date\n",
    "    df['alt_sample_name'] = df['isolation_source'].astype(str) + df['*collection_date'].map(lambda v: v.strftime('-%y%m%d') if not pd.isnull(v) else '') \n",
    "\n",
    "    # + \"-\" + ncbi.replicate_number.astype(str)\n",
    "\n",
    "    def f(n):\n",
    "        \"\"\"\n",
    "        Create a incrementing counter of replicates when encountering duplicated rows.\n",
    "        \"\"\"\n",
    "        if len(n) > 1:\n",
    "           print('{} was duplicated {} times'.format(n.name, len(n)))\n",
    "        return pd.Series(np.arange(1, len(n)+1), index=n.index)\n",
    "\n",
    "    # add a new column which records the number of replicates of a given isolation source and collection date\n",
    "    df['replicate'] = 0\n",
    "    df.replicate = df.groupby('alt_sample_name')['alt_sample_name'].apply(f)\n",
    "    df['alt_sample_name'] = df['isolation_source'].astype(str) + df['*collection_date'].map(lambda v: v.strftime('-%y%m%d') if not pd.isnull(v) else '') + \"-\" + df.replicate.map('{:02d}'.format)"
   ]
  },
  {
   "cell_type": "code",
   "execution_count": 9,
   "metadata": {},
   "outputs": [],
   "source": [
    "def demux2(df):\n",
    "    # replace the current sample_name with that made from isolation_source and collection_date\n",
    "    df['sn'] =  df['*collection_date'].map(lambda v: v.strftime('%b%d/') if not pd.isnull(v) else 'NA/') + df['isolation_source'].astype(str)\n",
    "\n",
    "    def f(n):\n",
    "        \"\"\"\n",
    "        Create a incrementing counter of replicates when encountering duplicated rows.\n",
    "        \"\"\"\n",
    "        if len(n) > 1:\n",
    "           print('{} was duplicated {} times'.format(n.name, len(n)))\n",
    "        return pd.Series(np.arange(1, len(n)+1), index=n.index)\n",
    "\n",
    "    # add a new column which records the number of replicates of a given isolation source and collection date\n",
    "    df['replicate'] = 0\n",
    "    df.replicate = df.groupby('sn')['sn'].apply(f)\n",
    "    df['sn'] = df['*collection_date'].map(lambda v: v.strftime('%b%d/') if not pd.isnull(v) else 'NA/') + df['isolation_source'].astype(str)  + \"-\" + df.replicate.map('{:02d}'.format)"
   ]
  },
  {
   "cell_type": "code",
   "execution_count": 23,
   "metadata": {},
   "outputs": [
    {
     "name": "stdout",
     "output_type": "stream",
     "text": [
      "There were 920 rows in the joined table\n",
      "There were 911 rows after removal of plate/well duplicates\n",
      "14160-170201 was duplicated 2 times\n",
      "14162-170201 was duplicated 2 times\n",
      "14172-170216 was duplicated 2 times\n",
      "14174-170131 was duplicated 2 times\n",
      "14190-170131 was duplicated 3 times\n",
      "14192-170131 was duplicated 2 times\n",
      "14193-170131 was duplicated 2 times\n",
      "14194-170207 was duplicated 2 times\n",
      "14262-170207 was duplicated 2 times\n",
      "14263-170131 was duplicated 2 times\n",
      "14265-170131 was duplicated 2 times\n",
      "14271-170206 was duplicated 2 times\n",
      "14274-170214 was duplicated 3 times\n",
      "14284-170131 was duplicated 2 times\n",
      "14298-170131 was duplicated 2 times\n",
      "14317-170207 was duplicated 2 times\n",
      "14320-170131 was duplicated 2 times\n",
      "29645-170131 was duplicated 2 times\n",
      "29652-170131 was duplicated 2 times\n",
      "29653-170131 was duplicated 2 times\n",
      "29667-170131 was duplicated 2 times\n",
      "29668-170131 was duplicated 2 times\n",
      "29694-170131 was duplicated 2 times\n",
      "29718-170131 was duplicated 2 times\n",
      "29743-170131 was duplicated 2 times\n",
      "29753-170131 was duplicated 2 times\n",
      "29754-170131 was duplicated 2 times\n",
      "29781-170131 was duplicated 2 times\n",
      "29796-170131 was duplicated 2 times\n",
      "29797-170131 was duplicated 2 times\n",
      "29847-170131 was duplicated 2 times\n",
      "29865-170131 was duplicated 2 times\n",
      "29875-170207 was duplicated 2 times\n",
      "29924-170207 was duplicated 2 times\n",
      "29934-170131 was duplicated 2 times\n",
      "29951-170131 was duplicated 2 times\n",
      "ColiGuard-180124 was duplicated 8 times\n",
      "MockCommunity-170814 was duplicated 9 times\n",
      "NegativeControl was duplicated 19 times\n",
      "Protexin-180124 was duplicated 8 times\n"
     ]
    }
   ],
   "source": [
    "# Using the existing sample_name as an index, join samples and plates. \n",
    "# rebuild an integer index\n",
    "cmb = samples.set_index('*sample_name',).join(seqruns.set_index('date and pig ID'), how='inner').reset_index()\n",
    "# given the old sample name column a better name than 'index'\n",
    "cmb.rename(columns={'index': 'old_sample_name'}, inplace=True)\n",
    "print('There were {} rows in the joined table'.format(len(cmb)))\n",
    "\n",
    "# Only one record should exist for a given plate and well.\n",
    "cmb.drop_duplicates(['elution plate number', 'well position'], inplace=True)\n",
    "print('There were {} rows after removal of plate/well duplicates'.format(len(cmb)))\n",
    "\n",
    "demux(cmb)\n",
    "#cmb.to_csv('test.csv')\n"
   ]
  },
  {
   "cell_type": "code",
   "execution_count": 12,
   "metadata": {},
   "outputs": [],
   "source": [
    "pd.options.display.max_rows = 5"
   ]
  },
  {
   "cell_type": "code",
   "execution_count": 18,
   "metadata": {},
   "outputs": [
    {
     "data": {
      "text/html": [
       "<div>\n",
       "<style scoped>\n",
       "    .dataframe tbody tr th:only-of-type {\n",
       "        vertical-align: middle;\n",
       "    }\n",
       "\n",
       "    .dataframe tbody tr th {\n",
       "        vertical-align: top;\n",
       "    }\n",
       "\n",
       "    .dataframe thead th {\n",
       "        text-align: right;\n",
       "    }\n",
       "</style>\n",
       "<table border=\"1\" class=\"dataframe\">\n",
       "  <thead>\n",
       "    <tr style=\"text-align: right;\">\n",
       "      <th></th>\n",
       "      <th></th>\n",
       "      <th>filename</th>\n",
       "    </tr>\n",
       "    <tr>\n",
       "      <th>DNA_plate</th>\n",
       "      <th>DNA_well</th>\n",
       "      <th></th>\n",
       "    </tr>\n",
       "  </thead>\n",
       "  <tbody>\n",
       "    <tr>\n",
       "      <th>P10\\tA10\\tcombined_new/plate_10_A10.r1.fastq.gz</th>\n",
       "      <th>NaN</th>\n",
       "      <td>NaN</td>\n",
       "    </tr>\n",
       "    <tr>\n",
       "      <th>P10\\tA10\\tcombined_new/plate_10_A10.r2.fastq.gz</th>\n",
       "      <th>NaN</th>\n",
       "      <td>NaN</td>\n",
       "    </tr>\n",
       "    <tr>\n",
       "      <th>P10\\tA11\\tcombined_new/plate_10_A11.r1.fastq.gz</th>\n",
       "      <th>NaN</th>\n",
       "      <td>NaN</td>\n",
       "    </tr>\n",
       "    <tr>\n",
       "      <th>P10\\tA11\\tcombined_new/plate_10_A11.r2.fastq.gz</th>\n",
       "      <th>NaN</th>\n",
       "      <td>NaN</td>\n",
       "    </tr>\n",
       "    <tr>\n",
       "      <th>P10\\tA12\\tcombined_new/plate_10_A12.r1.fastq.gz</th>\n",
       "      <th>NaN</th>\n",
       "      <td>NaN</td>\n",
       "    </tr>\n",
       "  </tbody>\n",
       "</table>\n",
       "</div>"
      ],
      "text/plain": [
       "                                                          filename\n",
       "DNA_plate                                       DNA_well          \n",
       "P10\\tA10\\tcombined_new/plate_10_A10.r1.fastq.gz NaN            NaN\n",
       "P10\\tA10\\tcombined_new/plate_10_A10.r2.fastq.gz NaN            NaN\n",
       "P10\\tA11\\tcombined_new/plate_10_A11.r1.fastq.gz NaN            NaN\n",
       "P10\\tA11\\tcombined_new/plate_10_A11.r2.fastq.gz NaN            NaN\n",
       "P10\\tA12\\tcombined_new/plate_10_A12.r1.fastq.gz NaN            NaN"
      ]
     },
     "execution_count": 18,
     "metadata": {},
     "output_type": "execute_result"
    }
   ],
   "source": [
    "files.head()"
   ]
  },
  {
   "cell_type": "code",
   "execution_count": 33,
   "metadata": {},
   "outputs": [
    {
     "name": "stdout",
     "output_type": "stream",
     "text": [
      "There were 960 file pairs\n"
     ]
    },
    {
     "data": {
      "text/html": [
       "<div>\n",
       "<style scoped>\n",
       "    .dataframe tbody tr th:only-of-type {\n",
       "        vertical-align: middle;\n",
       "    }\n",
       "\n",
       "    .dataframe tbody tr th {\n",
       "        vertical-align: top;\n",
       "    }\n",
       "\n",
       "    .dataframe thead th {\n",
       "        text-align: right;\n",
       "    }\n",
       "</style>\n",
       "<table border=\"1\" class=\"dataframe\">\n",
       "  <thead>\n",
       "    <tr style=\"text-align: right;\">\n",
       "      <th></th>\n",
       "      <th>DNA_plate</th>\n",
       "      <th>DNA_well</th>\n",
       "      <th>r1_filename</th>\n",
       "      <th>r2_filename</th>\n",
       "    </tr>\n",
       "  </thead>\n",
       "  <tbody>\n",
       "    <tr>\n",
       "      <th>0</th>\n",
       "      <td>plate_1</td>\n",
       "      <td>A1</td>\n",
       "      <td>combined_new/plate_1_A1.r1.fastq.gz</td>\n",
       "      <td>combined_new/plate_1_A1.r2.fastq.gz</td>\n",
       "    </tr>\n",
       "    <tr>\n",
       "      <th>1</th>\n",
       "      <td>plate_1</td>\n",
       "      <td>A10</td>\n",
       "      <td>combined_new/plate_1_A10.r1.fastq.gz</td>\n",
       "      <td>combined_new/plate_1_A10.r2.fastq.gz</td>\n",
       "    </tr>\n",
       "    <tr>\n",
       "      <th>2</th>\n",
       "      <td>plate_1</td>\n",
       "      <td>A11</td>\n",
       "      <td>combined_new/plate_1_A11.r1.fastq.gz</td>\n",
       "      <td>combined_new/plate_1_A11.r2.fastq.gz</td>\n",
       "    </tr>\n",
       "    <tr>\n",
       "      <th>3</th>\n",
       "      <td>plate_1</td>\n",
       "      <td>A12</td>\n",
       "      <td>combined_new/plate_1_A12.r1.fastq.gz</td>\n",
       "      <td>combined_new/plate_1_A12.r2.fastq.gz</td>\n",
       "    </tr>\n",
       "    <tr>\n",
       "      <th>4</th>\n",
       "      <td>plate_1</td>\n",
       "      <td>A2</td>\n",
       "      <td>combined_new/plate_1_A2.r1.fastq.gz</td>\n",
       "      <td>combined_new/plate_1_A2.r2.fastq.gz</td>\n",
       "    </tr>\n",
       "  </tbody>\n",
       "</table>\n",
       "</div>"
      ],
      "text/plain": [
       "  DNA_plate DNA_well                           r1_filename  \\\n",
       "0   plate_1       A1   combined_new/plate_1_A1.r1.fastq.gz   \n",
       "1   plate_1      A10  combined_new/plate_1_A10.r1.fastq.gz   \n",
       "2   plate_1      A11  combined_new/plate_1_A11.r1.fastq.gz   \n",
       "3   plate_1      A12  combined_new/plate_1_A12.r1.fastq.gz   \n",
       "4   plate_1       A2   combined_new/plate_1_A2.r1.fastq.gz   \n",
       "\n",
       "                            r2_filename  \n",
       "0   combined_new/plate_1_A1.r2.fastq.gz  \n",
       "1  combined_new/plate_1_A10.r2.fastq.gz  \n",
       "2  combined_new/plate_1_A11.r2.fastq.gz  \n",
       "3  combined_new/plate_1_A12.r2.fastq.gz  \n",
       "4   combined_new/plate_1_A2.r2.fastq.gz  "
      ]
     },
     "execution_count": 33,
     "metadata": {},
     "output_type": "execute_result"
    }
   ],
   "source": [
    "files = pd.read_csv('../source_data/fq_well_and_plate_new.txt', sep=' ', names=['DNA_plate','DNA_well','filename'], index_col=['DNA_plate', 'DNA_well'])\n",
    "# we will convert this to one row per read-pair, rather than one row for R1 and one for R2\n",
    "files = files.groupby(['DNA_plate', 'DNA_well']).agg(['first', 'last'])\n",
    "# convert the pandas group to a new dataframe\n",
    "files = pd.DataFrame(files.reset_index().values, columns=['DNA_plate', 'DNA_well', 'r1_filename', 'r2_filename'])\n",
    "print('There were {} file pairs'.format(len(files)))\n",
    "files.head()"
   ]
  },
  {
   "cell_type": "code",
   "execution_count": 24,
   "metadata": {},
   "outputs": [],
   "source": [
    "# remove extraneous text for chem_admin column \n",
    "# this loop assumes any chem_admin containing the word \"Day\" should be truncated\n",
    "# as iterrows in a copy, we need to assign the changed value back into the dataframe\n",
    "for row in cmb.iterrows():\n",
    "    chem = row[1].chem_administration \n",
    "    ix = chem.find('Day')\n",
    "    if ix != -1:\n",
    "        cmb.loc[row[0],'chem_administration'] = chem[:ix].rstrip()"
   ]
  },
  {
   "cell_type": "code",
   "execution_count": 34,
   "metadata": {},
   "outputs": [],
   "source": [
    "cmb.rename(columns={'elution plate number': 'DNA_plate', 'well position': 'DNA_well'}, inplace=True)\n",
    "out = cmb.set_index(['DNA_plate', 'DNA_well']).join(files.set_index(['DNA_plate', 'DNA_well']))"
   ]
  },
  {
   "cell_type": "code",
   "execution_count": 40,
   "metadata": {},
   "outputs": [],
   "source": [
    "out.to_csv('../complete_new.tsv', sep='\\t', encoding = 'utf-8')"
   ]
  },
  {
   "cell_type": "code",
   "execution_count": 39,
   "metadata": {},
   "outputs": [
    {
     "data": {
      "text/plain": [
       "isolation_source\n",
       "9128       1\n",
       "14159     10\n",
       "          ..\n",
       "Y08843     1\n",
       "Y09733     1\n",
       "Length: 172, dtype: int64"
      ]
     },
     "execution_count": 39,
     "metadata": {},
     "output_type": "execute_result"
    }
   ],
   "source": []
  },
  {
   "cell_type": "code",
   "execution_count": null,
   "metadata": {},
   "outputs": [],
   "source": []
  }
 ],
 "metadata": {
  "kernelspec": {
   "display_name": "Python 3",
   "language": "python",
   "name": "python3"
  },
  "language_info": {
   "codemirror_mode": {
    "name": "ipython",
    "version": 3
   },
   "file_extension": ".py",
   "mimetype": "text/x-python",
   "name": "python",
   "nbconvert_exporter": "python",
   "pygments_lexer": "ipython3",
   "version": "3.7.1"
  }
 },
 "nbformat": 4,
 "nbformat_minor": 2
}
